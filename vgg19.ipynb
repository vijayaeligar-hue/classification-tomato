{
 "cells": [
  {
   "cell_type": "code",
   "execution_count": 1,
   "metadata": {},
   "outputs": [
    {
     "name": "stdout",
     "output_type": "stream",
     "text": [
      "Sat May 01 21:00:35 2021       \n",
      "+-----------------------------------------------------------------------------+\n",
      "| NVIDIA-SMI 441.93       Driver Version: 441.93       CUDA Version: 10.2     |\n",
      "|-------------------------------+----------------------+----------------------+\n",
      "| GPU  Name            TCC/WDDM | Bus-Id        Disp.A | Volatile Uncorr. ECC |\n",
      "| Fan  Temp  Perf  Pwr:Usage/Cap|         Memory-Usage | GPU-Util  Compute M. |\n",
      "|===============================+======================+======================|\n",
      "|   0  GeForce GTX 1050   WDDM  | 00000000:01:00.0 Off |                  N/A |\n",
      "| N/A   38C    P8    N/A /  N/A |    169MiB /  4096MiB |      0%      Default |\n",
      "+-------------------------------+----------------------+----------------------+\n",
      "                                                                               \n",
      "+-----------------------------------------------------------------------------+\n",
      "| Processes:                                                       GPU Memory |\n",
      "|  GPU       PID   Type   Process name                             Usage      |\n",
      "|=============================================================================|\n",
      "|    0      1664    C+G   ... Files (x86)\\Dropbox\\Client\\Dropbox.exe N/A      |\n",
      "|    0      2160    C+G   ....17603.0_x64__8wekyb3d8bbwe\\Cortana.exe N/A      |\n",
      "|    0      2692    C+G   ...dows.Search_cw5n1h2txyewy\\SearchApp.exe N/A      |\n",
      "|    0      2804    C+G   ...nipping Tool\\App\\Free Snipping Tool.exe N/A      |\n",
      "|    0      3800    C+G   ...)\\Microsoft\\Edge\\Application\\msedge.exe N/A      |\n",
      "|    0      4060    C+G   ...w5n1h2txyewy\\InputApp\\TextInputHost.exe N/A      |\n",
      "|    0      4956    C+G   ...5.0_x64__w2gh52qy24etm\\SonicStudio3.exe N/A      |\n",
      "|    0      5424    C+G   ...5n1h2txyewy\\StartMenuExperienceHost.exe N/A      |\n",
      "|    0      8340    C+G   ....215.0_x64__8wekyb3d8bbwe\\YourPhone.exe N/A      |\n",
      "|    0     13360    C+G   ...dqpraam7r\\AcrobatNotificationClient.exe N/A      |\n",
      "|    0     17812    C+G   Insufficient Permissions                   N/A      |\n",
      "+-----------------------------------------------------------------------------+\n"
     ]
    }
   ],
   "source": [
    "!nvidia-smi"
   ]
  },
  {
   "cell_type": "code",
   "execution_count": null,
   "metadata": {},
   "outputs": [],
   "source": [
    "import tensorflow as tf\n",
    "print(\"Num GPUs Available: \", len(tf.config.list_physical_devices('GPU')))"
   ]
  },
  {
   "cell_type": "code",
   "execution_count": 3,
   "metadata": {},
   "outputs": [],
   "source": [
    "from keras.layers import Input, Lambda, Dense, Flatten\n",
    "from keras.models import Model\n",
    "from keras.applications.vgg16 import VGG16\n",
    "from keras.applications.vgg19 import VGG19\n",
    "from keras.applications.vgg19 import preprocess_input\n",
    "\n",
    "from keras.preprocessing import image\n",
    "from keras.preprocessing.image import ImageDataGenerator\n",
    "from keras.models import Sequential\n",
    "import numpy as np\n",
    "from glob import glob\n",
    "import matplotlib.pyplot as plt"
   ]
  },
  {
   "cell_type": "code",
   "execution_count": 4,
   "metadata": {},
   "outputs": [],
   "source": [
    "# re-size all the images to this\n",
    "IMAGE_SIZE = [224, 224]\n",
    "train_path = \"C:/Users/Vijaya/Tomato_plant/raw/color/train/\"\n",
    "valid_path = \"C:/Users/Vijaya/Tomato_plant/raw/color/test/\""
   ]
  },
  {
   "cell_type": "code",
   "execution_count": 5,
   "metadata": {},
   "outputs": [],
   "source": [
    "# Import the Vgg 16 library as shown below and add preprocessing layer to the front of VGG\n",
    "# Here we will be using imagenet weights\n",
    "import tensorflow\n",
    "# add preprocessing layer to the front of VGG\n",
    "vgg = VGG19(input_shape=IMAGE_SIZE + [3], weights='imagenet', include_top=False)"
   ]
  },
  {
   "cell_type": "code",
   "execution_count": 6,
   "metadata": {},
   "outputs": [],
   "source": [
    "# don't train existing weights\n",
    "# don't train existing weights\n",
    "for layer in vgg.layers:\n",
    "  layer.trainable = False"
   ]
  },
  {
   "cell_type": "code",
   "execution_count": 7,
   "metadata": {},
   "outputs": [],
   "source": [
    "# useful for getting number of output classes\n",
    "folders = glob('C:/Users/Vijaya/Tomato_plant/raw/color/train/*')"
   ]
  },
  {
   "cell_type": "code",
   "execution_count": 8,
   "metadata": {},
   "outputs": [
    {
     "data": {
      "text/plain": [
       "['C:/Users/Vijaya/Tomato_plant/raw/color/train\\\\Tomato___Bacterial_spot',\n",
       " 'C:/Users/Vijaya/Tomato_plant/raw/color/train\\\\Tomato___Early_blight',\n",
       " 'C:/Users/Vijaya/Tomato_plant/raw/color/train\\\\Tomato___healthy',\n",
       " 'C:/Users/Vijaya/Tomato_plant/raw/color/train\\\\Tomato___Late_blight',\n",
       " 'C:/Users/Vijaya/Tomato_plant/raw/color/train\\\\Tomato___Leaf_Mold',\n",
       " 'C:/Users/Vijaya/Tomato_plant/raw/color/train\\\\Tomato___Septoria_leaf_spot',\n",
       " 'C:/Users/Vijaya/Tomato_plant/raw/color/train\\\\Tomato___Spider_mites Two-spotted_spider_mite',\n",
       " 'C:/Users/Vijaya/Tomato_plant/raw/color/train\\\\Tomato___Target_Spot',\n",
       " 'C:/Users/Vijaya/Tomato_plant/raw/color/train\\\\Tomato___Tomato_mosaic_virus',\n",
       " 'C:/Users/Vijaya/Tomato_plant/raw/color/train\\\\Tomato___Tomato_Yellow_Leaf_Curl_Virus']"
      ]
     },
     "execution_count": 8,
     "metadata": {},
     "output_type": "execute_result"
    }
   ],
   "source": [
    "folders"
   ]
  },
  {
   "cell_type": "code",
   "execution_count": 9,
   "metadata": {},
   "outputs": [],
   "source": [
    "# our layers - you can add more if you want\n",
    "x = Flatten()(vgg.output)\n",
    "# x = Dense(1000, activation='relu')(x)\n"
   ]
  },
  {
   "cell_type": "code",
   "execution_count": 10,
   "metadata": {},
   "outputs": [],
   "source": [
    "prediction = Dense(len(folders), activation='softmax')(x)\n",
    "\n",
    "# create a model object\n",
    "model = Model(inputs=vgg.input, outputs=prediction)"
   ]
  },
  {
   "cell_type": "code",
   "execution_count": 11,
   "metadata": {},
   "outputs": [
    {
     "name": "stdout",
     "output_type": "stream",
     "text": [
      "Model: \"functional_1\"\n",
      "_________________________________________________________________\n",
      "Layer (type)                 Output Shape              Param #   \n",
      "=================================================================\n",
      "input_1 (InputLayer)         [(None, 224, 224, 3)]     0         \n",
      "_________________________________________________________________\n",
      "block1_conv1 (Conv2D)        (None, 224, 224, 64)      1792      \n",
      "_________________________________________________________________\n",
      "block1_conv2 (Conv2D)        (None, 224, 224, 64)      36928     \n",
      "_________________________________________________________________\n",
      "block1_pool (MaxPooling2D)   (None, 112, 112, 64)      0         \n",
      "_________________________________________________________________\n",
      "block2_conv1 (Conv2D)        (None, 112, 112, 128)     73856     \n",
      "_________________________________________________________________\n",
      "block2_conv2 (Conv2D)        (None, 112, 112, 128)     147584    \n",
      "_________________________________________________________________\n",
      "block2_pool (MaxPooling2D)   (None, 56, 56, 128)       0         \n",
      "_________________________________________________________________\n",
      "block3_conv1 (Conv2D)        (None, 56, 56, 256)       295168    \n",
      "_________________________________________________________________\n",
      "block3_conv2 (Conv2D)        (None, 56, 56, 256)       590080    \n",
      "_________________________________________________________________\n",
      "block3_conv3 (Conv2D)        (None, 56, 56, 256)       590080    \n",
      "_________________________________________________________________\n",
      "block3_conv4 (Conv2D)        (None, 56, 56, 256)       590080    \n",
      "_________________________________________________________________\n",
      "block3_pool (MaxPooling2D)   (None, 28, 28, 256)       0         \n",
      "_________________________________________________________________\n",
      "block4_conv1 (Conv2D)        (None, 28, 28, 512)       1180160   \n",
      "_________________________________________________________________\n",
      "block4_conv2 (Conv2D)        (None, 28, 28, 512)       2359808   \n",
      "_________________________________________________________________\n",
      "block4_conv3 (Conv2D)        (None, 28, 28, 512)       2359808   \n",
      "_________________________________________________________________\n",
      "block4_conv4 (Conv2D)        (None, 28, 28, 512)       2359808   \n",
      "_________________________________________________________________\n",
      "block4_pool (MaxPooling2D)   (None, 14, 14, 512)       0         \n",
      "_________________________________________________________________\n",
      "block5_conv1 (Conv2D)        (None, 14, 14, 512)       2359808   \n",
      "_________________________________________________________________\n",
      "block5_conv2 (Conv2D)        (None, 14, 14, 512)       2359808   \n",
      "_________________________________________________________________\n",
      "block5_conv3 (Conv2D)        (None, 14, 14, 512)       2359808   \n",
      "_________________________________________________________________\n",
      "block5_conv4 (Conv2D)        (None, 14, 14, 512)       2359808   \n",
      "_________________________________________________________________\n",
      "block5_pool (MaxPooling2D)   (None, 7, 7, 512)         0         \n",
      "_________________________________________________________________\n",
      "flatten (Flatten)            (None, 25088)             0         \n",
      "_________________________________________________________________\n",
      "dense (Dense)                (None, 10)                250890    \n",
      "=================================================================\n",
      "Total params: 20,275,274\n",
      "Trainable params: 250,890\n",
      "Non-trainable params: 20,024,384\n",
      "_________________________________________________________________\n"
     ]
    }
   ],
   "source": [
    "# view the structure of the model\n",
    "model.summary()"
   ]
  },
  {
   "cell_type": "code",
   "execution_count": 12,
   "metadata": {},
   "outputs": [],
   "source": [
    "# tell the model what cost and optimization method to use\n",
    "model.compile(\n",
    "  loss='categorical_crossentropy',\n",
    "  optimizer='adam',\n",
    "  metrics=['accuracy']\n",
    ")"
   ]
  },
  {
   "cell_type": "code",
   "execution_count": 13,
   "metadata": {},
   "outputs": [],
   "source": [
    "# Use the Image Data Generator to import the images from the dataset\n",
    "from tensorflow.keras.preprocessing.image import ImageDataGenerator\n",
    "\n",
    "train_datagen = ImageDataGenerator(rescale = 1./255,\n",
    "                                   shear_range = 0.2,\n",
    "                                   zoom_range = 0.2,\n",
    "                                   horizontal_flip = True)\n",
    "\n",
    "test_datagen = ImageDataGenerator(rescale = 1./255)"
   ]
  },
  {
   "cell_type": "code",
   "execution_count": 14,
   "metadata": {},
   "outputs": [
    {
     "name": "stdout",
     "output_type": "stream",
     "text": [
      "Found 14496 images belonging to 10 classes.\n"
     ]
    }
   ],
   "source": [
    "# Make sure you provide the same target size as initialied for the image size\n",
    "training_set = train_datagen.flow_from_directory(\"C:/Users/Vijaya/Tomato_plant/raw/color/train/\",\n",
    "                                                 target_size = (224, 224),\n",
    "                                                 batch_size = 16,\n",
    "                                                 class_mode = 'categorical')"
   ]
  },
  {
   "cell_type": "code",
   "execution_count": 15,
   "metadata": {},
   "outputs": [
    {
     "name": "stdout",
     "output_type": "stream",
     "text": [
      "Found 3664 images belonging to 10 classes.\n"
     ]
    }
   ],
   "source": [
    "test_set = test_datagen.flow_from_directory(\"C:/Users/Vijaya/Tomato_plant/raw/color/test/\",\n",
    "                                            target_size = (224, 224),\n",
    "                                            batch_size = 16,\n",
    "                                            class_mode = 'categorical')"
   ]
  },
  {
   "cell_type": "code",
   "execution_count": null,
   "metadata": {},
   "outputs": [
    {
     "name": "stdout",
     "output_type": "stream",
     "text": [
      "WARNING:tensorflow:From <ipython-input-16-69229fe26ea3>:3: Model.fit_generator (from tensorflow.python.keras.engine.training) is deprecated and will be removed in a future version.\n",
      "Instructions for updating:\n",
      "Please use Model.fit, which supports generators.\n",
      "Epoch 1/50\n",
      "906/906 [==============================] - 3122s 3s/step - loss: 0.8487 - accuracy: 0.7490 - val_loss: 0.9701 - val_accuracy: 0.7765\n",
      "Epoch 2/50\n",
      "906/906 [==============================] - 2555s 3s/step - loss: 0.6080 - accuracy: 0.8280 - val_loss: 0.6730 - val_accuracy: 0.8507\n",
      "Epoch 3/50\n",
      "906/906 [==============================] - 2573s 3s/step - loss: 0.4854 - accuracy: 0.8633 - val_loss: 0.8059 - val_accuracy: 0.8362\n",
      "Epoch 4/50\n",
      "906/906 [==============================] - 2470s 3s/step - loss: 0.4857 - accuracy: 0.8736 - val_loss: 0.5438 - val_accuracy: 0.8654\n",
      "Epoch 5/50\n",
      "906/906 [==============================] - 2467s 3s/step - loss: 0.3756 - accuracy: 0.8968 - val_loss: 0.5427 - val_accuracy: 0.8712\n",
      "Epoch 6/50\n",
      "906/906 [==============================] - 2462s 3s/step - loss: 0.3857 - accuracy: 0.8949 - val_loss: 0.8505 - val_accuracy: 0.8390\n",
      "Epoch 7/50\n",
      "906/906 [==============================] - 2467s 3s/step - loss: 0.3552 - accuracy: 0.9071 - val_loss: 0.6329 - val_accuracy: 0.8717\n",
      "Epoch 8/50\n",
      "906/906 [==============================] - 2455s 3s/step - loss: 0.3231 - accuracy: 0.9145 - val_loss: 0.8910 - val_accuracy: 0.8362\n",
      "Epoch 9/50\n",
      "906/906 [==============================] - 2453s 3s/step - loss: 0.3646 - accuracy: 0.9115 - val_loss: 0.7170 - val_accuracy: 0.8829\n",
      "Epoch 10/50\n",
      "906/906 [==============================] - 2461s 3s/step - loss: 0.2963 - accuracy: 0.9233 - val_loss: 1.0022 - val_accuracy: 0.8275\n",
      "Epoch 11/50\n",
      "906/906 [==============================] - 2454s 3s/step - loss: 0.3376 - accuracy: 0.9180 - val_loss: 0.5175 - val_accuracy: 0.9020\n",
      "Epoch 12/50\n",
      "906/906 [==============================] - 2724s 3s/step - loss: 0.2827 - accuracy: 0.9314 - val_loss: 0.5312 - val_accuracy: 0.9058\n",
      "Epoch 13/50\n",
      "906/906 [==============================] - 2774s 3s/step - loss: 0.2981 - accuracy: 0.9282 - val_loss: 0.5173 - val_accuracy: 0.9088\n",
      "Epoch 14/50\n",
      "906/906 [==============================] - 2454s 3s/step - loss: 0.2794 - accuracy: 0.9302 - val_loss: 0.6794 - val_accuracy: 0.8900\n",
      "Epoch 15/50\n",
      "906/906 [==============================] - 2432s 3s/step - loss: 0.2669 - accuracy: 0.9343 - val_loss: 1.0854 - val_accuracy: 0.8504\n",
      "Epoch 16/50\n",
      "906/906 [==============================] - 2429s 3s/step - loss: 0.2690 - accuracy: 0.9358 - val_loss: 0.7174 - val_accuracy: 0.8807\n",
      "Epoch 17/50\n",
      "906/906 [==============================] - 2433s 3s/step - loss: 0.2719 - accuracy: 0.9393 - val_loss: 0.7835 - val_accuracy: 0.8766\n",
      "Epoch 18/50\n",
      "906/906 [==============================] - 2405s 3s/step - loss: 0.2514 - accuracy: 0.9407 - val_loss: 0.8056 - val_accuracy: 0.8824\n",
      "Epoch 19/50\n",
      "906/906 [==============================] - 3270s 4s/step - loss: 0.2325 - accuracy: 0.9454 - val_loss: 0.6008 - val_accuracy: 0.9078\n",
      "Epoch 20/50\n",
      "906/906 [==============================] - 2739s 3s/step - loss: 0.2564 - accuracy: 0.9432 - val_loss: 0.5400 - val_accuracy: 0.9124\n",
      "Epoch 21/50\n",
      "906/906 [==============================] - 2657s 3s/step - loss: 0.2481 - accuracy: 0.9453 - val_loss: 0.6597 - val_accuracy: 0.9004\n",
      "Epoch 22/50\n",
      "906/906 [==============================] - 2584s 3s/step - loss: 0.2071 - accuracy: 0.9525 - val_loss: 0.5576 - val_accuracy: 0.9110\n",
      "Epoch 23/50\n",
      "906/906 [==============================] - 5497s 6s/step - loss: 0.2042 - accuracy: 0.9486 - val_loss: 0.8820 - val_accuracy: 0.8791\n",
      "Epoch 24/50\n",
      "906/906 [==============================] - 2809s 3s/step - loss: 0.2035 - accuracy: 0.9558 - val_loss: 0.5592 - val_accuracy: 0.9127\n",
      "Epoch 25/50\n",
      "906/906 [==============================] - 2546s 3s/step - loss: 0.1952 - accuracy: 0.9557 - val_loss: 0.7442 - val_accuracy: 0.8927\n",
      "Epoch 26/50\n",
      "906/906 [==============================] - 2534s 3s/step - loss: 0.1968 - accuracy: 0.9520 - val_loss: 0.8643 - val_accuracy: 0.8848\n",
      "Epoch 27/50\n",
      "906/906 [==============================] - 2518s 3s/step - loss: 0.2372 - accuracy: 0.9498 - val_loss: 0.7288 - val_accuracy: 0.8941\n",
      "Epoch 28/50\n",
      "906/906 [==============================] - 2610s 3s/step - loss: 0.2084 - accuracy: 0.9543 - val_loss: 0.6134 - val_accuracy: 0.9143\n",
      "Epoch 29/50\n",
      "906/906 [==============================] - 2857s 3s/step - loss: 0.1903 - accuracy: 0.9586 - val_loss: 0.7021 - val_accuracy: 0.9001\n",
      "Epoch 30/50\n",
      "906/906 [==============================] - 2558s 3s/step - loss: 0.1935 - accuracy: 0.9564 - val_loss: 0.6906 - val_accuracy: 0.9045\n",
      "Epoch 31/50\n",
      "906/906 [==============================] - 2632s 3s/step - loss: 0.1948 - accuracy: 0.9575 - val_loss: 0.7328 - val_accuracy: 0.9108\n",
      "Epoch 32/50\n",
      "906/906 [==============================] - 2969s 3s/step - loss: 0.1837 - accuracy: 0.9585 - val_loss: 0.7888 - val_accuracy: 0.8941\n",
      "Epoch 33/50\n",
      "906/906 [==============================] - 2617s 3s/step - loss: 0.1767 - accuracy: 0.9611 - val_loss: 0.6815 - val_accuracy: 0.9088\n",
      "Epoch 34/50\n",
      "906/906 [==============================] - 2611s 3s/step - loss: 0.1810 - accuracy: 0.9583 - val_loss: 0.6367 - val_accuracy: 0.9173\n",
      "Epoch 35/50\n",
      "906/906 [==============================] - 2878s 3s/step - loss: 0.1942 - accuracy: 0.9578 - val_loss: 0.7752 - val_accuracy: 0.9135\n",
      "Epoch 36/50\n",
      "228/906 [======>.......................] - ETA: 1:07:32 - loss: 0.1293 - accuracy: 0.9693"
     ]
    }
   ],
   "source": [
    "# fit the model\n",
    "# Run the cell. It will take some time to execute\n",
    "r = model.fit_generator(\n",
    "  training_set,\n",
    "  validation_data=test_set,\n",
    "  epochs=50,\n",
    "  steps_per_epoch=len(training_set),\n",
    "  validation_steps=len(test_set)\n",
    ")"
   ]
  },
  {
   "cell_type": "code",
   "execution_count": null,
   "metadata": {},
   "outputs": [],
   "source": [
    "# plot the loss\n",
    "plt.plot(r.history['loss'], label='train loss')\n",
    "plt.plot(r.history['val_loss'], label='val loss')\n",
    "plt.legend()\n",
    "plt.show()\n",
    "plt.savefig('LossVal_loss')\n",
    "\n",
    "# plot the accuracy\n",
    "plt.plot(r.history['accuracy'], label='train acc')\n",
    "plt.plot(r.history['val_accuracy'], label='val acc')\n",
    "plt.legend()\n",
    "plt.show()\n",
    "plt.savefig('AccVal_acc')"
   ]
  }
 ],
 "metadata": {
  "kernelspec": {
   "display_name": "Python 3",
   "language": "python",
   "name": "python3"
  },
  "language_info": {
   "codemirror_mode": {
    "name": "ipython",
    "version": 3
   },
   "file_extension": ".py",
   "mimetype": "text/x-python",
   "name": "python",
   "nbconvert_exporter": "python",
   "pygments_lexer": "ipython3",
   "version": "3.8.5"
  }
 },
 "nbformat": 4,
 "nbformat_minor": 4
}
